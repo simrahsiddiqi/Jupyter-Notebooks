{
 "cells": [
  {
   "cell_type": "markdown",
   "id": "cfeea1cc-a315-4821-b736-8bb5a09da1d6",
   "metadata": {},
   "source": [
    "# Data Science Tools and Ecosystem"
   ]
  },
  {
   "cell_type": "markdown",
   "id": "8fafae44-a841-434c-a016-9f89c9d3f1f9",
   "metadata": {},
   "source": [
    "In this notebook, Data Science Tools and Ecosystem are summarized. "
   ]
  },
  {
   "cell_type": "markdown",
   "id": "ff33c93b-9ce8-4280-8379-98fec5f5d621",
   "metadata": {},
   "source": [
    "Some of the popular languages that Data Scientists use are:\n",
    "1. R\n",
    "2. Python\n",
    "3. Scala"
   ]
  },
  {
   "cell_type": "markdown",
   "id": "7fb3cd28-76a8-4fc4-bc9e-cbfa57b4471a",
   "metadata": {},
   "source": [
    "Some of the commonly used libraries used by Data Scientists include:\n",
    "1. matplotlib\n",
    "2. seaborn\n",
    "3. numpy\n",
    "4. pandas"
   ]
  },
  {
   "cell_type": "markdown",
   "id": "3a086002-d580-4186-a1bc-b69168ee23af",
   "metadata": {},
   "source": [
    "| Data Science Tools |\n",
    "| -------------------|\n",
    "| Jupyter Notebooks|\n",
    "|TensorFlow |\n",
    "| Tableau|\n",
    "|Apache Spark|\n",
    "|Power BI |\n",
    "|PyTorch|\n"
   ]
  },
  {
   "cell_type": "markdown",
   "id": "3b5d5746-050e-4f92-82e3-3351f950bad2",
   "metadata": {},
   "source": [
    "### Below are a few examples of evaluating arithmetic expressions in Python:"
   ]
  },
  {
   "cell_type": "code",
   "execution_count": 7,
   "id": "6f30c2b3-2fd3-4bb4-af72-5911e8b4a3ff",
   "metadata": {},
   "outputs": [
    {
     "data": {
      "text/plain": [
       "17"
      ]
     },
     "execution_count": 7,
     "metadata": {},
     "output_type": "execute_result"
    }
   ],
   "source": [
    "#This is a simple arithmetic expression to multiply then add integers\n",
    "(3*4)+5"
   ]
  },
  {
   "cell_type": "code",
   "execution_count": 10,
   "id": "c21f0852-0d76-40c3-9d0e-65f0179f3703",
   "metadata": {},
   "outputs": [
    {
     "data": {
      "text/plain": [
       "3.3333333333333335"
      ]
     },
     "execution_count": 10,
     "metadata": {},
     "output_type": "execute_result"
    }
   ],
   "source": [
    "#This will convert 200 minutes into hours by dividing 200 by 60\n",
    "200/60"
   ]
  },
  {
   "cell_type": "markdown",
   "id": "94760875-ea0d-48b2-ab5b-b1689b8c9bbb",
   "metadata": {},
   "source": [
    "# Key Takeaways from the Course"
   ]
  },
  {
   "cell_type": "markdown",
   "id": "61863080-9496-4a14-9eaa-80cc9d96d72b",
   "metadata": {},
   "source": [
    "**Objectives:**\n",
    "- Popular languages are: Julia, R, Scala, and Python\n",
    "- Popular tools used are: TensorFlow, P"
   ]
  }
 ],
 "metadata": {
  "kernelspec": {
   "display_name": "Python 3 (ipykernel)",
   "language": "python",
   "name": "python3"
  },
  "language_info": {
   "codemirror_mode": {
    "name": "ipython",
    "version": 3
   },
   "file_extension": ".py",
   "mimetype": "text/x-python",
   "name": "python",
   "nbconvert_exporter": "python",
   "pygments_lexer": "ipython3",
   "version": "3.12.7"
  }
 },
 "nbformat": 4,
 "nbformat_minor": 5
}
